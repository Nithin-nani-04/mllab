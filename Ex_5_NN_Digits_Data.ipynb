{
  "cells": [
    {
      "cell_type": "code",
      "execution_count": 1,
      "metadata": {
        "id": "6i2tcBPed_jS"
      },
      "outputs": [],
      "source": [
        "\n",
        "# Importing datasets\n",
        "from sklearn import datasets\n",
        "\n",
        "# loading digit image dataset\n",
        "digits = datasets.load_digits()\n"
      ]
    },
    {
      "cell_type": "code",
      "execution_count": 2,
      "metadata": {
        "colab": {
          "base_uri": "https://localhost:8080/"
        },
        "id": "LxMDq_8-d_jV",
        "outputId": "ce62187c-0809-4fe8-d90e-c31edbd3130a"
      },
      "outputs": [
        {
          "data": {
            "text/plain": [
              "['DESCR', 'data', 'feature_names', 'frame', 'images', 'target', 'target_names']"
            ]
          },
          "execution_count": 2,
          "metadata": {},
          "output_type": "execute_result"
        }
      ],
      "source": [
        "\n",
        "dir(digits)\n"
      ]
    },
    {
      "cell_type": "code",
      "execution_count": 3,
      "metadata": {
        "colab": {
          "base_uri": "https://localhost:8080/"
        },
        "id": "qZJWzy_Jd_jX",
        "outputId": "926973fb-73c1-4abd-e3da-a4fd7c456844"
      },
      "outputs": [
        {
          "name": "stdout",
          "output_type": "stream",
          "text": [
            ".. _digits_dataset:\n",
            "\n",
            "Optical recognition of handwritten digits dataset\n",
            "--------------------------------------------------\n",
            "\n",
            "**Data Set Characteristics:**\n",
            "\n",
            "    :Number of Instances: 1797\n",
            "    :Number of Attributes: 64\n",
            "    :Attribute Information: 8x8 image of integer pixels in the range 0..16.\n",
            "    :Missing Attribute Values: None\n",
            "    :Creator: E. Alpaydin (alpaydin '@' boun.edu.tr)\n",
            "    :Date: July; 1998\n",
            "\n",
            "This is a copy of the test set of the UCI ML hand-written digits datasets\n",
            "https://archive.ics.uci.edu/ml/datasets/Optical+Recognition+of+Handwritten+Digits\n",
            "\n",
            "The data set contains images of hand-written digits: 10 classes where\n",
            "each class refers to a digit.\n",
            "\n",
            "Preprocessing programs made available by NIST were used to extract\n",
            "normalized bitmaps of handwritten digits from a preprinted form. From a\n",
            "total of 43 people, 30 contributed to the training set and different 13\n",
            "to the test set. 32x32 bitmaps are divided into nonoverlapping blocks of\n",
            "4x4 and the number of on pixels are counted in each block. This generates\n",
            "an input matrix of 8x8 where each element is an integer in the range\n",
            "0..16. This reduces dimensionality and gives invariance to small\n",
            "distortions.\n",
            "\n",
            "For info on NIST preprocessing routines, see M. D. Garris, J. L. Blue, G.\n",
            "T. Candela, D. L. Dimmick, J. Geist, P. J. Grother, S. A. Janet, and C.\n",
            "L. Wilson, NIST Form-Based Handprint Recognition System, NISTIR 5469,\n",
            "1994.\n",
            "\n",
            ".. topic:: References\n",
            "\n",
            "  - C. Kaynak (1995) Methods of Combining Multiple Classifiers and Their\n",
            "    Applications to Handwritten Digit Recognition, MSc Thesis, Institute of\n",
            "    Graduate Studies in Science and Engineering, Bogazici University.\n",
            "  - E. Alpaydin, C. Kaynak (1998) Cascading Classifiers, Kybernetika.\n",
            "  - Ken Tang and Ponnuthurai N. Suganthan and Xi Yao and A. Kai Qin.\n",
            "    Linear dimensionalityreduction using relevance weighted LDA. School of\n",
            "    Electrical and Electronic Engineering Nanyang Technological University.\n",
            "    2005.\n",
            "  - Claudio Gentile. A New Approximate Maximal Margin Classification\n",
            "    Algorithm. NIPS. 2000.\n",
            "\n"
          ]
        }
      ],
      "source": [
        "\n",
        "print(digits.DESCR)\n"
      ]
    },
    {
      "cell_type": "code",
      "execution_count": 4,
      "metadata": {
        "colab": {
          "base_uri": "https://localhost:8080/"
        },
        "id": "E3kHWXutd_jY",
        "outputId": "9f269bd0-79c9-4f0d-ccbe-35add83e9f1d"
      },
      "outputs": [
        {
          "name": "stdout",
          "output_type": "stream",
          "text": [
            "['pixel_0_0', 'pixel_0_1', 'pixel_0_2', 'pixel_0_3', 'pixel_0_4', 'pixel_0_5', 'pixel_0_6', 'pixel_0_7', 'pixel_1_0', 'pixel_1_1', 'pixel_1_2', 'pixel_1_3', 'pixel_1_4', 'pixel_1_5', 'pixel_1_6', 'pixel_1_7', 'pixel_2_0', 'pixel_2_1', 'pixel_2_2', 'pixel_2_3', 'pixel_2_4', 'pixel_2_5', 'pixel_2_6', 'pixel_2_7', 'pixel_3_0', 'pixel_3_1', 'pixel_3_2', 'pixel_3_3', 'pixel_3_4', 'pixel_3_5', 'pixel_3_6', 'pixel_3_7', 'pixel_4_0', 'pixel_4_1', 'pixel_4_2', 'pixel_4_3', 'pixel_4_4', 'pixel_4_5', 'pixel_4_6', 'pixel_4_7', 'pixel_5_0', 'pixel_5_1', 'pixel_5_2', 'pixel_5_3', 'pixel_5_4', 'pixel_5_5', 'pixel_5_6', 'pixel_5_7', 'pixel_6_0', 'pixel_6_1', 'pixel_6_2', 'pixel_6_3', 'pixel_6_4', 'pixel_6_5', 'pixel_6_6', 'pixel_6_7', 'pixel_7_0', 'pixel_7_1', 'pixel_7_2', 'pixel_7_3', 'pixel_7_4', 'pixel_7_5', 'pixel_7_6', 'pixel_7_7']\n"
          ]
        }
      ],
      "source": [
        "\n",
        "print(digits.feature_names)\n"
      ]
    },
    {
      "cell_type": "code",
      "execution_count": 5,
      "metadata": {
        "colab": {
          "base_uri": "https://localhost:8080/"
        },
        "id": "es4oE4I4d_ja",
        "outputId": "dfc40890-083a-41f5-e8a9-a037b393bbee"
      },
      "outputs": [
        {
          "data": {
            "text/plain": [
              "numpy.ndarray"
            ]
          },
          "execution_count": 5,
          "metadata": {},
          "output_type": "execute_result"
        }
      ],
      "source": [
        "\n",
        "type(digits.images)\n"
      ]
    },
    {
      "cell_type": "code",
      "execution_count": 6,
      "metadata": {
        "colab": {
          "base_uri": "https://localhost:8080/"
        },
        "id": "n_oRbr1Rd_jb",
        "outputId": "fb9af765-c927-4cb4-e81c-b95049130029"
      },
      "outputs": [
        {
          "name": "stdout",
          "output_type": "stream",
          "text": [
            "[0 1 2 3 4 5 6 7 8 9]\n"
          ]
        }
      ],
      "source": [
        "print(digits.target_names)\n"
      ]
    },
    {
      "cell_type": "code",
      "execution_count": null,
      "metadata": {
        "id": "Z9ycp1umd_jd",
        "outputId": "44a22452-9ed9-4497-e647-b768f350a94f"
      },
      "outputs": [
        {
          "data": {
            "text/plain": [
              "(1797, 8, 8)"
            ]
          },
          "execution_count": 7,
          "metadata": {},
          "output_type": "execute_result"
        }
      ],
      "source": [
        "\n",
        "digits.images.shape\n"
      ]
    },
    {
      "cell_type": "code",
      "execution_count": 7,
      "metadata": {
        "colab": {
          "base_uri": "https://localhost:8080/"
        },
        "id": "cy8va8jqd_je",
        "outputId": "2a9003fe-2f8c-4dc4-d81e-66befd454b7e"
      },
      "outputs": [
        {
          "data": {
            "text/plain": [
              "array([[ 0.,  0.,  5., 13.,  9.,  1.,  0.,  0.],\n",
              "       [ 0.,  0., 13., 15., 10., 15.,  5.,  0.],\n",
              "       [ 0.,  3., 15.,  2.,  0., 11.,  8.,  0.],\n",
              "       [ 0.,  4., 12.,  0.,  0.,  8.,  8.,  0.],\n",
              "       [ 0.,  5.,  8.,  0.,  0.,  9.,  8.,  0.],\n",
              "       [ 0.,  4., 11.,  0.,  1., 12.,  7.,  0.],\n",
              "       [ 0.,  2., 14.,  5., 10., 12.,  0.,  0.],\n",
              "       [ 0.,  0.,  6., 13., 10.,  0.,  0.,  0.]])"
            ]
          },
          "execution_count": 7,
          "metadata": {},
          "output_type": "execute_result"
        }
      ],
      "source": [
        "\n",
        "digits.images[0]\n"
      ]
    },
    {
      "cell_type": "code",
      "execution_count": 8,
      "metadata": {
        "colab": {
          "base_uri": "https://localhost:8080/",
          "height": 168
        },
        "id": "0cvq1Q1md_jg",
        "outputId": "4a1a212d-4cb0-4677-b543-132a58c5aa7f"
      },
      "outputs": [
        {
          "data": {
            "image/png": "[encoded data removed]",
            "text/plain": [
              "<Figure size 720x216 with 4 Axes>"
            ]
          },
          "metadata": {
            "needs_background": "light"
          },
          "output_type": "display_data"
        }
      ],
      "source": [
        "\n",
        "\n",
        "import matplotlib.pyplot as plt\n",
        "\n",
        "_, axes = plt.subplots(nrows=1, ncols=4, figsize=(10, 3))\n",
        "for ax, image, label in zip(axes, digits.images, digits.target):\n",
        "    ax.set_axis_off()\n",
        "    ax.imshow(image, cmap=plt.cm.gray_r, interpolation=\"nearest\")\n",
        "    ax.set_title(\"Training: %i\" % label)\n"
      ]
    },
    {
      "cell_type": "code",
      "execution_count": 9,
      "metadata": {
        "id": "JRARIRCud_jj"
      },
      "outputs": [],
      "source": [
        "\n",
        "# flattening the images\n",
        "n_samples = len(digits.images)\n",
        "data = digits.images.reshape((n_samples, -1))\n",
        "\n"
      ]
    },
    {
      "cell_type": "code",
      "execution_count": 10,
      "metadata": {
        "colab": {
          "base_uri": "https://localhost:8080/"
        },
        "id": "fhBzsMJRd_jj",
        "outputId": "ff60eedf-9ceb-4a3f-fbff-5b91023fc40f"
      },
      "outputs": [
        {
          "name": "stdout",
          "output_type": "stream",
          "text": [
            "Iteration 1, loss = 2.31806058\n",
            "Iteration 2, loss = 2.23554298\n",
            "Iteration 3, loss = 2.11152680\n",
            "Iteration 4, loss = 1.93318102\n",
            "Iteration 5, loss = 1.68340148\n",
            "Iteration 6, loss = 1.34706543\n",
            "Iteration 7, loss = 1.01047382\n",
            "Iteration 8, loss = 0.73110347\n",
            "Iteration 9, loss = 0.52564421\n",
            "Iteration 10, loss = 0.38311327\n",
            "Iteration 11, loss = 0.28745303\n",
            "Iteration 12, loss = 0.22321755\n",
            "Iteration 13, loss = 0.17980040\n",
            "Iteration 14, loss = 0.14927177\n",
            "Iteration 15, loss = 0.12598217\n",
            "Iteration 16, loss = 0.10774715\n",
            "Iteration 17, loss = 0.09467110\n",
            "Iteration 18, loss = 0.08318579\n",
            "Iteration 19, loss = 0.07544766\n",
            "Iteration 20, loss = 0.06862140\n",
            "Iteration 21, loss = 0.06272211\n",
            "Iteration 22, loss = 0.05679316\n",
            "Iteration 23, loss = 0.05173199\n",
            "Iteration 24, loss = 0.04779437\n",
            "Iteration 25, loss = 0.04500338\n",
            "Iteration 26, loss = 0.04184104\n",
            "Iteration 27, loss = 0.03904551\n",
            "Iteration 28, loss = 0.03736341\n",
            "Iteration 29, loss = 0.03486625\n",
            "Iteration 30, loss = 0.03279666\n",
            "Iteration 31, loss = 0.03104739\n",
            "Iteration 32, loss = 0.02921414\n",
            "Iteration 33, loss = 0.02809778\n",
            "Iteration 34, loss = 0.02657393\n",
            "Iteration 35, loss = 0.02545311\n",
            "Iteration 36, loss = 0.02446084\n",
            "Iteration 37, loss = 0.02329054\n",
            "Iteration 38, loss = 0.02214299\n",
            "Iteration 39, loss = 0.02126856\n",
            "Iteration 40, loss = 0.02052622\n",
            "Iteration 41, loss = 0.01975256\n",
            "Iteration 42, loss = 0.01894544\n",
            "Iteration 43, loss = 0.01845495\n",
            "Iteration 44, loss = 0.01781872\n",
            "Iteration 45, loss = 0.01701399\n",
            "Iteration 46, loss = 0.01664254\n",
            "Iteration 47, loss = 0.01585164\n",
            "Iteration 48, loss = 0.01541949\n",
            "Iteration 49, loss = 0.01493487\n",
            "Iteration 50, loss = 0.01445705\n",
            "Iteration 51, loss = 0.01395677\n",
            "Iteration 52, loss = 0.01356621\n",
            "Iteration 53, loss = 0.01313677\n",
            "Iteration 54, loss = 0.01281921\n",
            "Iteration 55, loss = 0.01243177\n",
            "Iteration 56, loss = 0.01217347\n",
            "Iteration 57, loss = 0.01179346\n",
            "Iteration 58, loss = 0.01146299\n",
            "Iteration 59, loss = 0.01118587\n",
            "Iteration 60, loss = 0.01095729\n",
            "Iteration 61, loss = 0.01066158\n",
            "Iteration 62, loss = 0.01042367\n",
            "Iteration 63, loss = 0.01020141\n",
            "Iteration 64, loss = 0.01003254\n",
            "Iteration 65, loss = 0.00970392\n",
            "Iteration 66, loss = 0.00953260\n",
            "Iteration 67, loss = 0.00931406\n",
            "Iteration 68, loss = 0.00907894\n",
            "Iteration 69, loss = 0.00893826\n",
            "Iteration 70, loss = 0.00871577\n",
            "Iteration 71, loss = 0.00856670\n",
            "Iteration 72, loss = 0.00840610\n",
            "Iteration 73, loss = 0.00823089\n",
            "Iteration 74, loss = 0.00809737\n",
            "Iteration 75, loss = 0.00792736\n",
            "Iteration 76, loss = 0.00780340\n",
            "Iteration 77, loss = 0.00764604\n",
            "Iteration 78, loss = 0.00751589\n",
            "Iteration 79, loss = 0.00738729\n",
            "Iteration 80, loss = 0.00725937\n",
            "Iteration 81, loss = 0.00714130\n",
            "Iteration 82, loss = 0.00704057\n",
            "Iteration 83, loss = 0.00690226\n",
            "Iteration 84, loss = 0.00681652\n",
            "Iteration 85, loss = 0.00670753\n",
            "Iteration 86, loss = 0.00657451\n",
            "Iteration 87, loss = 0.00648019\n",
            "Iteration 88, loss = 0.00638242\n",
            "Iteration 89, loss = 0.00629340\n",
            "Iteration 90, loss = 0.00620439\n",
            "Iteration 91, loss = 0.00612568\n",
            "Iteration 92, loss = 0.00602496\n",
            "Iteration 93, loss = 0.00595090\n",
            "Iteration 94, loss = 0.00585264\n",
            "Iteration 95, loss = 0.00575984\n",
            "Iteration 96, loss = 0.00570582\n",
            "Iteration 97, loss = 0.00561369\n",
            "Iteration 98, loss = 0.00553325\n",
            "Iteration 99, loss = 0.00546445\n",
            "Iteration 100, loss = 0.00539742\n",
            "Iteration 101, loss = 0.00533112\n",
            "Iteration 102, loss = 0.00526372\n",
            "Iteration 103, loss = 0.00520110\n",
            "Training loss did not improve more than tol=0.000100 for 10 consecutive epochs. Stopping.\n"
          ]
        }
      ],
      "source": [
        "from sklearn import metrics\n",
        "from sklearn.neural_network import MLPClassifier\n",
        "from sklearn.model_selection import train_test_split\n",
        "X_train, X_test, y_train, y_test = train_test_split(data, \n",
        "                                                    digits.target, \n",
        "                                                    test_size = 0.5, \n",
        "                                                    shuffle = False\n",
        ")\n",
        "\n",
        "mlp = MLPClassifier(hidden_layer_sizes = (128 , 64), activation = 'logistic', alpha =  1e-4,\n",
        "                    solver = 'sgd', tol = 1e-4, random_state = 1,\n",
        "                    learning_rate_init = .1, verbose = True)\n",
        "\n",
        "# Training the MLP with training data\n",
        "mlp.fit(X_train, y_train)\n",
        "\n",
        "# Predicting the value of the digit on the test data\n",
        "y_predicted = mlp.predict(X_test)\n"
      ]
    },
    {
      "cell_type": "code",
      "execution_count": 11,
      "metadata": {
        "colab": {
          "base_uri": "https://localhost:8080/",
          "height": 168
        },
        "id": "zumXPro2d_jl",
        "outputId": "0ed1ea02-4d28-4044-ffd6-33d1ae85056d"
      },
      "outputs": [
        {
          "data": {
            "image/png": "[encoded data removed]",
            "text/plain": [
              "<Figure size 720x216 with 4 Axes>"
            ]
          },
          "metadata": {
            "needs_background": "light"
          },
          "output_type": "display_data"
        }
      ],
      "source": [
        "\n",
        "\n",
        "\n",
        "_, axes = plt.subplots(nrows=1, ncols=4, figsize=(10, 3))\n",
        "for ax, image, prediction in zip(axes, X_test, y_predicted):\n",
        "    ax.set_axis_off()\n",
        "    image = image.reshape(8, 8)\n",
        "    ax.imshow(image, cmap = plt.cm.gray_r, interpolation = \"nearest\")\n",
        "    ax.set_title(f\"Prediction: {prediction}\")\n",
        "    "
      ]
    },
    {
      "cell_type": "markdown",
      "metadata": {
        "id": "g42Oqydmd_jm"
      },
      "source": [
        "#### We can plot a `confusion matrix <confusion_matrix>` of the true digit values and the predicted digit values in the form of a heatmap.\n",
        "\n"
      ]
    },
    {
      "cell_type": "code",
      "execution_count": 13,
      "metadata": {
        "colab": {
          "base_uri": "https://localhost:8080/",
          "height": 286
        },
        "id": "AsMGrLQKd_jn",
        "outputId": "e572a469-988e-4e4d-fe15-7017547d9ffc"
      },
      "outputs": [
        {
          "name": "stdout",
          "output_type": "stream",
          "text": [
            "The % of Accuracy is : 95.10567296996662\n"
          ]
        },
        {
          "data": {
            "image/png": "[encoded data removed]",
            "text/plain": [
              "<Figure size 432x288 with 2 Axes>"
            ]
          },
          "metadata": {
            "needs_background": "light"
          },
          "output_type": "display_data"
        }
      ],
      "source": [
        "\n",
        "from sklearn.metrics import confusion_matrix , accuracy_score\n",
        "import seaborn as sns\n",
        "cm = confusion_matrix(y_test, y_predicted)\n",
        "sns.heatmap(cm, annot = True , fmt = 'd')\n",
        "print('The % of Accuracy is :', accuracy_score(y_test , y_predicted)*100)\n",
        "\n"
      ]
    },
    {
      "cell_type": "code",
      "execution_count": 14,
      "metadata": {
        "colab": {
          "base_uri": "https://localhost:8080/"
        },
        "id": "tOvYA66td_jo",
        "outputId": "9b5f652b-9759-4a0a-f6b0-5a18f842b698"
      },
      "outputs": [
        {
          "name": "stdout",
          "output_type": "stream",
          "text": [
            "weights between input and first hidden layer:\n",
            "[[-0.01693263  0.04495979 -0.1020075  ...  0.00792393  0.01077894\n",
            "   0.0697954 ]\n",
            " [-0.10832321 -0.05075487  0.01556038 ...  0.09515672  0.01825767\n",
            "   0.05450046]\n",
            " [-0.06968199 -0.08100316 -0.02565275 ...  0.00246374  0.1093701\n",
            "  -0.12351096]\n",
            " ...\n",
            " [ 0.0448075   0.10889104 -0.05133974 ...  0.03960139  0.00773755\n",
            "   0.16546269]\n",
            " [ 0.13746521 -0.09864133  0.03776946 ...  0.09360828 -0.00222922\n",
            "  -0.0966712 ]\n",
            " [ 0.02722291 -0.06329276 -0.08054808 ... -0.08376382  0.09110037\n",
            "   0.02449374]]\n",
            "\n",
            "weights between first hidden and second hidden layer:\n",
            "[[-0.20563751  0.10088131  0.06349793 ...  0.08711656 -0.13983782\n",
            "  -0.22816924]\n",
            " [ 0.14888228 -0.08867514  0.04615003 ... -0.14848029  0.01351488\n",
            "   0.29328764]\n",
            " [-0.05430794  0.04978504 -0.09730345 ...  0.11565929 -0.02747184\n",
            "   0.02509967]\n",
            " ...\n",
            " [-0.0275512   0.00269346 -0.07988297 ...  0.04356784 -0.10349571\n",
            "   0.08501737]\n",
            " [-0.09235084 -0.05238574 -0.04346453 ...  0.08302493 -0.09771271\n",
            "  -0.03994741]\n",
            " [-0.05631216 -0.05575696  0.05710291 ... -0.03214848 -0.09666771\n",
            "   0.1159155 ]]\n"
          ]
        }
      ],
      "source": [
        "\n",
        "# Visualizing weights of MLP\n",
        "\n",
        "print(\"weights between input and first hidden layer:\")\n",
        "print(mlp.coefs_[0])\n",
        "\n",
        "print(\"\\nweights between first hidden and second hidden layer:\")\n",
        "print(mlp.coefs_[1])"
      ]
    },
    {
      "cell_type": "code",
      "execution_count": null,
      "metadata": {
        "id": "RCkJfB6Qd_jp"
      },
      "outputs": [],
      "source": []
    }
  ],
  "metadata": {
    "colab": {
      "name": "Ex 5 - NN - Digits Data.ipynb",
      "provenance": []
    },
    "kernelspec": {
      "display_name": "Python 3",
      "language": "python",
      "name": "python3"
    },
    "language_info": {
      "codemirror_mode": {
        "name": "ipython",
        "version": 3
      },
      "file_extension": ".py",
      "mimetype": "text/x-python",
      "name": "python",
      "nbconvert_exporter": "python",
      "pygments_lexer": "ipython3",
      "version": "3.7.6"
    }
  },
  "nbformat": 4,
  "nbformat_minor": 0
}
