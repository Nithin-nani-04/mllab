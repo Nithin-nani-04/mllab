{
  "cells": [
    {
      "cell_type": "code",
      "execution_count": null,
      "metadata": {
        "id": "mxT-ZJuX0y9S"
      },
      "outputs": [],
      "source": [
        "import math\n",
        "import pandas as pd\n",
        "from sklearn.preprocessing import LabelEncoder\n",
        "from sklearn.metrics import accuracy_score\n",
        "from sklearn.model_selection import train_test_split\n",
        "from sklearn.cluster import KMeans\n",
        "from sklearn.preprocessing import StandardScaler\n",
        "import numpy as numpy "
      ]
    },
    {
      "cell_type": "code",
      "execution_count": null,
      "metadata": {
        "id": "6SELOtt30y9e"
      },
      "outputs": [],
      "source": [
        "Data= pd.read_csv(\"bank-full.csv\")\n",
        "cols = [\"age\",\"balance\",\"day\",\"duration\",\"campaign\",\"pdays\",\"previous\"]\n",
        "data_encode= Data.drop(cols, axis= 1)\n",
        "data_encode= data_encode.apply(LabelEncoder().fit_transform)\n",
        "data_rest= Data[cols]\n",
        "Data= pd.concat([data_rest,data_encode], axis= 1)"
      ]
    },
    {
      "cell_type": "code",
      "execution_count": null,
      "metadata": {
        "id": "JOJK-HQD0y9h"
      },
      "outputs": [],
      "source": [
        "data_train, data_test= train_test_split(Data, test_size= 0.33, random_state= 4)\n",
        "X_train= data_train.drop(\"y\", axis= 1)\n",
        "Y_train= data_train[\"y\"]\n",
        "X_test= data_test.drop(\"y\", axis=1)\n",
        "Y_test= data_test[\"y\"]"
      ]
    },
    {
      "cell_type": "code",
      "execution_count": null,
      "metadata": {
        "id": "b0Y8ILaE0y9i"
      },
      "outputs": [],
      "source": [
        "scaler= StandardScaler()\n",
        "scaler.fit(X_train)\n",
        "X_train= scaler.transform(X_train)\n",
        "X_test= scaler.transform(X_test)"
      ]
    },
    {
      "cell_type": "code",
      "execution_count": null,
      "metadata": {
        "id": "CvNPpVhG0y9k"
      },
      "outputs": [],
      "source": [
        "K_cent= 8\n",
        "km= KMeans(n_clusters= K_cent, max_iter= 100)\n",
        "km.fit(X_train)\n",
        "cent= km.cluster_centers_"
      ]
    },
    {
      "cell_type": "code",
      "execution_count": null,
      "metadata": {
        "id": "gxCbBOYN0y9l"
      },
      "outputs": [],
      "source": [
        "max=0 \n",
        "for i in range(K_cent):\n",
        "    for j in range(K_cent):\n",
        "        d = numpy.linalg.norm(cent[i]-cent[j])\n",
        "        if(d> max):\n",
        "            max= d\n",
        "d= max\n",
        "\n",
        "sigma= d/math.sqrt(2*K_cent)"
      ]
    },
    {
      "cell_type": "code",
      "execution_count": null,
      "metadata": {
        "id": "ItrEtJlX0y9n"
      },
      "outputs": [],
      "source": [
        "shape= X_train.shape\n",
        "row= shape[0]\n",
        "column= K_cent\n",
        "G= numpy.empty((row,column), dtype= float)\n",
        "for i in range(row):\n",
        "    for j in range(column):\n",
        "        dist= numpy.linalg.norm(X_train[i]-cent[j])\n",
        "        G[i][j]= math.exp(-math.pow(dist,2)/math.pow(2*sigma,2))"
      ]
    },
    {
      "cell_type": "code",
      "execution_count": null,
      "metadata": {
        "id": "TTgc9cuG0y9p"
      },
      "outputs": [],
      "source": [
        "GTG= numpy.dot(G.T,G)\n",
        "GTG_inv= numpy.linalg.inv(GTG)\n",
        "fac= numpy.dot(GTG_inv,G.T)\n",
        "W= numpy.dot(fac,Y_train)"
      ]
    },
    {
      "cell_type": "code",
      "execution_count": null,
      "metadata": {
        "id": "6YYk7put0y9q"
      },
      "outputs": [],
      "source": [
        "row= X_test.shape[0]\n",
        "column= K_cent\n",
        "G_test= numpy.empty((row,column), dtype= float)\n",
        "for i in range(row):\n",
        "    for j in range(column):\n",
        "        dist= numpy.linalg.norm(X_test[i]-cent[j])\n",
        "        G_test[i][j]= math.exp(-math.pow(dist,2)/math.pow(2*sigma,2))"
      ]
    },
    {
      "cell_type": "code",
      "execution_count": null,
      "metadata": {
        "id": "Jyv_av3J0y9s",
        "outputId": "ef97fac2-9133-40b3-8321-31948e8ef712"
      },
      "outputs": [
        {
          "name": "stdout",
          "output_type": "stream",
          "text": [
            "The accuracy of the RBF Neural Network is:  88.77 %\n"
          ]
        }
      ],
      "source": [
        "prediction= numpy.dot(G_test,W)\n",
        "prediction= 0.5*(numpy.sign(prediction-0.5)+1)\n",
        "score= accuracy_score(prediction,Y_test)\n",
        "print ('The accuracy of the RBF Neural Network is: ' , \"{0:0.2f}\".format(score.mean()*100), '%')"
      ]
    },
    {
      "cell_type": "code",
      "execution_count": null,
      "metadata": {
        "id": "58i3HMBd0y9u"
      },
      "outputs": [],
      "source": []
    }
  ],
  "metadata": {
    "kernelspec": {
      "display_name": "Python 3",
      "language": "python",
      "name": "python3"
    },
    "language_info": {
      "codemirror_mode": {
        "name": "ipython",
        "version": 3
      },
      "file_extension": ".py",
      "mimetype": "text/x-python",
      "name": "python",
      "nbconvert_exporter": "python",
      "pygments_lexer": "ipython3",
      "version": "3.7.6"
    },
    "colab": {
      "provenance": []
    }
  },
  "nbformat": 4,
  "nbformat_minor": 0
}